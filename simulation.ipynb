{
 "cells": [
  {
   "cell_type": "code",
   "id": "initial_id",
   "metadata": {
    "ExecuteTime": {
     "end_time": "2025-05-12T06:20:29.731019Z",
     "start_time": "2025-05-12T06:19:53.263989Z"
    }
   },
   "source": [
    "from vpython import *\n",
    "\n",
    "box()"
   ],
   "outputs": [
    {
     "data": {
      "text/plain": [
       "<IPython.core.display.HTML object>"
      ],
      "text/html": [
       "<div id=\"glowscript\" class=\"glowscript\"></div>"
      ]
     },
     "metadata": {},
     "output_type": "display_data"
    },
    {
     "data": {
      "text/plain": [
       "<IPython.core.display.Javascript object>"
      ],
      "application/javascript": "if (typeof Jupyter !== \"undefined\") { window.__context = { glowscript_container: $(\"#glowscript\").removeAttr(\"id\")};}else{ element.textContent = ' ';}"
     },
     "metadata": {},
     "output_type": "display_data"
    },
    {
     "ename": "KeyboardInterrupt",
     "evalue": "",
     "output_type": "error",
     "traceback": [
      "\u001B[31m---------------------------------------------------------------------------\u001B[39m",
      "\u001B[31mKeyboardInterrupt\u001B[39m                         Traceback (most recent call last)",
      "\u001B[36mCell\u001B[39m\u001B[36m \u001B[39m\u001B[32mIn[1]\u001B[39m\u001B[32m, line 3\u001B[39m\n\u001B[32m      1\u001B[39m \u001B[38;5;28;01mfrom\u001B[39;00m\u001B[38;5;250m \u001B[39m\u001B[34;01mvpython\u001B[39;00m\u001B[38;5;250m \u001B[39m\u001B[38;5;28;01mimport\u001B[39;00m *\n\u001B[32m----> \u001B[39m\u001B[32m3\u001B[39m \u001B[43mbox\u001B[49m\u001B[43m(\u001B[49m\u001B[43m)\u001B[49m\n",
      "\u001B[36mFile \u001B[39m\u001B[32m/opt/anaconda3/envs/ABSProject/lib/python3.11/site-packages/vpython/vpython.py:1183\u001B[39m, in \u001B[36mbox.__init__\u001B[39m\u001B[34m(self, **args)\u001B[39m\n\u001B[32m   1181\u001B[39m args[\u001B[33m'\u001B[39m\u001B[33m_default_size\u001B[39m\u001B[33m'\u001B[39m] = vector(\u001B[32m1\u001B[39m,\u001B[32m1\u001B[39m,\u001B[32m1\u001B[39m)\n\u001B[32m   1182\u001B[39m args[\u001B[33m'\u001B[39m\u001B[33m_objName\u001B[39m\u001B[33m'\u001B[39m] = \u001B[33m\"\u001B[39m\u001B[33mbox\u001B[39m\u001B[33m\"\u001B[39m\n\u001B[32m-> \u001B[39m\u001B[32m1183\u001B[39m \u001B[38;5;28;43msuper\u001B[39;49m\u001B[43m(\u001B[49m\u001B[43mbox\u001B[49m\u001B[43m,\u001B[49m\u001B[43m \u001B[49m\u001B[38;5;28;43mself\u001B[39;49m\u001B[43m)\u001B[49m\u001B[43m.\u001B[49m\u001B[43msetup\u001B[49m\u001B[43m(\u001B[49m\u001B[43margs\u001B[49m\u001B[43m)\u001B[49m\n",
      "\u001B[36mFile \u001B[39m\u001B[32m/opt/anaconda3/envs/ABSProject/lib/python3.11/site-packages/vpython/vpython.py:612\u001B[39m, in \u001B[36mstandardAttributes.setup\u001B[39m\u001B[34m(self, args)\u001B[39m\n\u001B[32m    611\u001B[39m \u001B[38;5;28;01mdef\u001B[39;00m\u001B[38;5;250m \u001B[39m\u001B[34msetup\u001B[39m(\u001B[38;5;28mself\u001B[39m, args):\n\u001B[32m--> \u001B[39m\u001B[32m612\u001B[39m     \u001B[38;5;28;43msuper\u001B[39;49m\u001B[43m(\u001B[49m\u001B[43mstandardAttributes\u001B[49m\u001B[43m,\u001B[49m\u001B[43m \u001B[49m\u001B[38;5;28;43mself\u001B[39;49m\u001B[43m)\u001B[49m\u001B[43m.\u001B[49m\u001B[34;43m__init__\u001B[39;49m\u001B[43m(\u001B[49m\u001B[43m)\u001B[49m\n\u001B[32m    613\u001B[39m     \u001B[38;5;28mself\u001B[39m._constructing = \u001B[38;5;28;01mTrue\u001B[39;00m  \u001B[38;5;66;03m## calls to setters are from constructor\u001B[39;00m\n\u001B[32m    615\u001B[39m     objName = \u001B[38;5;28mself\u001B[39m._objName = args[\u001B[33m'\u001B[39m\u001B[33m_objName\u001B[39m\u001B[33m'\u001B[39m]  \u001B[38;5;66;03m## identifies object type\u001B[39;00m\n",
      "\u001B[36mFile \u001B[39m\u001B[32m/opt/anaconda3/envs/ABSProject/lib/python3.11/site-packages/vpython/vpython.py:265\u001B[39m, in \u001B[36mbaseObj.__init__\u001B[39m\u001B[34m(self, **kwargs)\u001B[39m\n\u001B[32m    262\u001B[39m \u001B[38;5;28;01mif\u001B[39;00m \u001B[38;5;129;01mnot\u001B[39;00m (baseObj._view_constructed \u001B[38;5;129;01mor\u001B[39;00m\n\u001B[32m    263\u001B[39m         baseObj._canvas_constructing):\n\u001B[32m    264\u001B[39m     \u001B[38;5;28;01mif\u001B[39;00m _isnotebook:\n\u001B[32m--> \u001B[39m\u001B[32m265\u001B[39m         \u001B[38;5;28;01mfrom\u001B[39;00m\u001B[38;5;250m \u001B[39m\u001B[34;01m.\u001B[39;00m\u001B[34;01mwith_notebook\u001B[39;00m\u001B[38;5;250m \u001B[39m\u001B[38;5;28;01mimport\u001B[39;00m _\n\u001B[32m    266\u001B[39m     \u001B[38;5;28;01melse\u001B[39;00m:\n\u001B[32m    267\u001B[39m         \u001B[38;5;28;01mfrom\u001B[39;00m\u001B[38;5;250m \u001B[39m\u001B[34;01m.\u001B[39;00m\u001B[34;01mno_notebook\u001B[39;00m\u001B[38;5;250m \u001B[39m\u001B[38;5;28;01mimport\u001B[39;00m _\n",
      "\u001B[36mFile \u001B[39m\u001B[32m/opt/anaconda3/envs/ABSProject/lib/python3.11/site-packages/vpython/with_notebook.py:154\u001B[39m\n\u001B[32m    152\u001B[39m baseObj.glow = GlowWidget(wsport=__SOCKET_PORT, wsuri=\u001B[33m'\u001B[39m\u001B[33m/ws\u001B[39m\u001B[33m'\u001B[39m)\n\u001B[32m    153\u001B[39m \u001B[38;5;28;01mwhile\u001B[39;00m (\u001B[38;5;129;01mnot\u001B[39;00m wsConnected):\n\u001B[32m--> \u001B[39m\u001B[32m154\u001B[39m     \u001B[43mtime\u001B[49m\u001B[43m.\u001B[49m\u001B[43msleep\u001B[49m\u001B[43m(\u001B[49m\u001B[32;43m0.1\u001B[39;49m\u001B[43m)\u001B[49m          \u001B[38;5;66;03m# wait for websocket to connect\u001B[39;00m\n\u001B[32m    156\u001B[39m baseObj.trigger()  \u001B[38;5;66;03m# start the trigger ping-pong process\u001B[39;00m\n\u001B[32m    159\u001B[39m \u001B[38;5;66;03m# Same justification as above for removing the ipykernel check.\u001B[39;00m\n\u001B[32m    160\u001B[39m \u001B[38;5;66;03m# There was also an IPython version check for >=4, which was\u001B[39;00m\n\u001B[32m    161\u001B[39m \u001B[38;5;66;03m# released in Nov 2015. Ok to stop supporting in 2.019 I think.\u001B[39;00m\n",
      "\u001B[31mKeyboardInterrupt\u001B[39m: "
     ]
    }
   ],
   "execution_count": 1
  },
  {
   "cell_type": "code",
   "execution_count": null,
   "id": "0c760c8d-eabf-473d-9f25-ee97933b7ab9",
   "metadata": {},
   "outputs": [],
   "source": []
  }
 ],
 "metadata": {
  "kernelspec": {
   "display_name": "Python 3 (ipykernel)",
   "language": "python",
   "name": "python3"
  },
  "language_info": {
   "codemirror_mode": {
    "name": "ipython",
    "version": 3
   },
   "file_extension": ".py",
   "mimetype": "text/x-python",
   "name": "python",
   "nbconvert_exporter": "python",
   "pygments_lexer": "ipython3",
   "version": "3.11.11"
  }
 },
 "nbformat": 4,
 "nbformat_minor": 5
}
